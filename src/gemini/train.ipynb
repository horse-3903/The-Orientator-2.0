{
 "cells": [
  {
   "cell_type": "code",
   "execution_count": 20,
   "metadata": {},
   "outputs": [],
   "source": [
    "import os\n",
    "\n",
    "import time\n",
    "import json\n",
    "\n",
    "from dotenv import load_dotenv\n",
    "\n",
    "import random\n",
    "\n",
    "import google.generativeai as genai\n",
    "from google.oauth2.credentials import Credentials\n",
    "from google.auth.transport.requests import Request\n",
    "from google_auth_oauthlib.flow import InstalledAppFlow"
   ]
  },
  {
   "cell_type": "code",
   "execution_count": 21,
   "metadata": {},
   "outputs": [],
   "source": [
    "load_dotenv()\n",
    "\n",
    "SCOPES = [\"https://www.googleapis.com/auth/cloud-platform\", \"https://www.googleapis.com/auth/generative-language.tuning\"]\n",
    "KEY_FILE = os.getenv(\"PARENT_DIR\") + \"auth/credentials.json\"\n",
    "TOKEN_FILE = os.getenv(\"PARENT_DIR\") + \"auth/token.json\""
   ]
  },
  {
   "cell_type": "code",
   "execution_count": 22,
   "metadata": {},
   "outputs": [],
   "source": [
    "creds = None\n",
    "\n",
    "if os.path.exists(TOKEN_FILE):\n",
    "    creds = Credentials.from_authorized_user_file(TOKEN_FILE, SCOPES)\n",
    "\n",
    "if not creds or not creds.valid:\n",
    "    if creds and creds.expired and creds.refresh_token:\n",
    "        creds.refresh(Request())\n",
    "    else:\n",
    "        flow = InstalledAppFlow.from_client_secrets_file(KEY_FILE, SCOPES)\n",
    "        creds = flow.run_local_server()\n",
    "    \n",
    "    with open(TOKEN_FILE, \"w\") as token:\n",
    "        token.write(creds.to_json())"
   ]
  },
  {
   "cell_type": "code",
   "execution_count": 23,
   "metadata": {},
   "outputs": [],
   "source": [
    "genai.configure(credentials=creds)"
   ]
  },
  {
   "cell_type": "code",
   "execution_count": 24,
   "metadata": {},
   "outputs": [
    {
     "data": {
      "text/plain": [
       "genai.GenerativeModel(\n",
       "    model_name='models/gemini-1.5-pro',\n",
       "    generation_config={},\n",
       "    safety_settings={},\n",
       "    tools=None,\n",
       "    system_instruction=None,\n",
       "    cached_content=None\n",
       ")"
      ]
     },
     "execution_count": 24,
     "metadata": {},
     "output_type": "execute_result"
    }
   ],
   "source": [
    "model = genai.GenerativeModel(\"gemini-1.5-pro\")\n",
    "model"
   ]
  },
  {
   "cell_type": "code",
   "execution_count": 25,
   "metadata": {},
   "outputs": [
    {
     "data": {
      "text/plain": [
       "Model(name='models/gemini-1.0-pro-001',\n",
       "      base_model_id='',\n",
       "      version='001',\n",
       "      display_name='Gemini 1.0 Pro 001 (Tuning)',\n",
       "      description=('The best model for scaling across a wide range of tasks. This is a stable '\n",
       "                   'model that supports tuning.'),\n",
       "      input_token_limit=30720,\n",
       "      output_token_limit=2048,\n",
       "      supported_generation_methods=['generateContent', 'countTokens', 'createTunedModel'],\n",
       "      temperature=0.9,\n",
       "      max_temperature=None,\n",
       "      top_p=1.0,\n",
       "      top_k=None)"
      ]
     },
     "execution_count": 25,
     "metadata": {},
     "output_type": "execute_result"
    }
   ],
   "source": [
    "base_model = [m for m in genai.list_models() if \"createTunedModel\" in m.supported_generation_methods][0]\n",
    "base_model "
   ]
  },
  {
   "cell_type": "code",
   "execution_count": 26,
   "metadata": {},
   "outputs": [
    {
     "data": {
      "text/plain": [
       "[{'text_input': 'What is your name?', 'output': 'My name is The Orientator'},\n",
       " {'text_input': 'What do you do?',\n",
       "  'output': 'I am an AI Chatbot named The Orientator, and my purpose is to help you understand HCI better.'},\n",
       " {'text_input': 'How can you help me?',\n",
       "  'output': 'You can ask me questions about the HCI, and I will try my best to help you answer them.'},\n",
       " {'text_input': 'Who are you?',\n",
       "  'output': 'I am an AI Chatbot named The Orientator, and my purpose is to help you understand HCI better.'},\n",
       " {'text_input': 'What are you?',\n",
       "  'output': 'I am an AI Chatbot named The Orientator, and my purpose is to help you understand HCI better.'}]"
      ]
     },
     "execution_count": 26,
     "metadata": {},
     "output_type": "execute_result"
    }
   ],
   "source": [
    "with open(os.getenv(\"PARENT_DIR\") + \"data/final_data.json\", \"r\", encoding=\"utf-8\") as f:\n",
    "    data = json.loads(f.read())\n",
    "\n",
    "    training_data = [{\"text_input\": a, \"output\": b} for a, b in data]\n",
    "\n",
    "training_data[:5]"
   ]
  },
  {
   "cell_type": "code",
   "execution_count": 27,
   "metadata": {},
   "outputs": [],
   "source": [
    "name = \"test-model-7\"\n",
    "operation = genai.create_tuned_model(\n",
    "    source_model=base_model.name,\n",
    "    training_data=training_data,\n",
    "    id = name,\n",
    "    epoch_count = 100,\n",
    "    batch_size = 32,\n",
    "    learning_rate = 1e-2,\n",
    ")"
   ]
  },
  {
   "cell_type": "code",
   "execution_count": 28,
   "metadata": {},
   "outputs": [
    {
     "name": "stderr",
     "output_type": "stream",
     "text": [
      "  0%|          | 0/2360 [00:09<?, ?it/s]\n"
     ]
    },
    {
     "ename": "KeyboardInterrupt",
     "evalue": "",
     "output_type": "error",
     "traceback": [
      "\u001b[1;31m---------------------------------------------------------------------------\u001b[0m",
      "\u001b[1;31mKeyboardInterrupt\u001b[0m                         Traceback (most recent call last)",
      "Cell \u001b[1;32mIn[28], line 2\u001b[0m\n\u001b[0;32m      1\u001b[0m \u001b[38;5;28;01mfor\u001b[39;00m status \u001b[38;5;129;01min\u001b[39;00m operation\u001b[38;5;241m.\u001b[39mwait_bar():\n\u001b[1;32m----> 2\u001b[0m     \u001b[43mtime\u001b[49m\u001b[38;5;241;43m.\u001b[39;49m\u001b[43msleep\u001b[49m\u001b[43m(\u001b[49m\u001b[38;5;241;43m2\u001b[39;49m\u001b[43m)\u001b[49m\n",
      "\u001b[1;31mKeyboardInterrupt\u001b[0m: "
     ]
    }
   ],
   "source": [
    "for status in operation.wait_bar():\n",
    "    time.sleep(2)"
   ]
  },
  {
   "cell_type": "code",
   "execution_count": null,
   "metadata": {},
   "outputs": [
    {
     "data": {
      "text/plain": [
       "TunedModel(name='tunedModels/test-model-6',\n",
       "           source_model='models/gemini-1.5-flash-001-tuning',\n",
       "           base_model='models/gemini-1.5-flash-001-tuning',\n",
       "           display_name='',\n",
       "           description='',\n",
       "           temperature=1.0,\n",
       "           top_p=0.95,\n",
       "           top_k=64,\n",
       "           state=<State.CREATING: 1>,\n",
       "           create_time=datetime.datetime(2024, 8, 12, 5, 48, 20, 826545, tzinfo=datetime.timezone.utc),\n",
       "           update_time=datetime.datetime(2024, 8, 12, 5, 48, 20, 826545, tzinfo=datetime.timezone.utc),\n",
       "           tuning_task=TuningTask(start_time=None,\n",
       "                                  complete_time=None,\n",
       "                                  snapshots=[],\n",
       "                                  hyperparameters=Hyperparameters(epoch_count=100,\n",
       "                                                                  batch_size=32,\n",
       "                                                                  learning_rate=0.01)))"
      ]
     },
     "execution_count": 12,
     "metadata": {},
     "output_type": "execute_result"
    }
   ],
   "source": [
    "model = genai.get_tuned_model(f\"tunedModels/{name}\")\n",
    "model"
   ]
  },
  {
   "cell_type": "code",
   "execution_count": null,
   "metadata": {},
   "outputs": [
    {
     "data": {
      "text/plain": [
       "genai.GenerativeModel(\n",
       "    model_name='tunedModels/test-model-2',\n",
       "    generation_config={},\n",
       "    safety_settings={},\n",
       "    tools=None,\n",
       "    system_instruction=None,\n",
       "    cached_content=None\n",
       ")"
      ]
     },
     "execution_count": 13,
     "metadata": {},
     "output_type": "execute_result"
    }
   ],
   "source": [
    "model = genai.GenerativeModel(model_name=f\"tunedModels/{name}\")\n",
    "model"
   ]
  },
  {
   "cell_type": "code",
   "execution_count": null,
   "metadata": {},
   "outputs": [
    {
     "name": "stdout",
     "output_type": "stream",
     "text": [
      "**Fun things to do in HCI (non-exhaustive)**\n",
      "\n",
      "* **Basketball** (Note: Do note that the courts are very popular and you may not be able to play on it)\n",
      "* **Table tennis** (Note: Do note that the tables are very popular and you may not be able to play on it)\n",
      "* **Going to the track to run/jog** (Note: Do note that track and field CCA teams use the track and you may not be able to use it)\n",
      "* **Going to the gym (Note: Do note that you need to pay to use it)\n",
      "* **Chilling at the track/EP3 (Note: Do note that track and field CCA teams use the track and you may not be able to use it)\n",
      "* **Going to the library to study/find a book to read (Note: Do note that you need to keep quiet as people are studying there)\n",
      "* **Going to the darkroom to develop photos (Note: Do note that you need to pay to use it)\n",
      "* **Playing the piano at the Clocktower/LT400 (Note: Do note that you need to check if there are any events on that day before playing the piano)\n",
      "* **Taking photos at the track/EP3/HC (Note: Do note that you may not be able to take photos of people without their consent)\n",
      "* **Going to the second floor of the track to study/find a place to eat lunch (Note: Do note that you need to keep quiet as people are studying there)\n",
      "* **Going to the fourth floor of the track to study/find a place to eat lunch (Note: Do note that you need to keep quiet as people are studying there)\n",
      "* **Going to the fifth floor of the track to study/find a place to eat lunch (Note: Do note that you need to keep quiet as people are studying there)\n",
      "* **Going to the sixth floor of the track to study/find a place to eat lunch (Note: Do note that you need to keep quiet as people are studying there)\n",
      "* **Going to the seventh floor of the track to study/find a place to eat lunch (Note: Do note that you need to keep quiet as people are studying there)\n",
      "* **Going to the eighth floor of the track to study/find a place to eat lunch (Note: Do note that you need to keep quiet as people are studying there)\n",
      "* **Going to the ninth floor of the track to study/find a place to eat lunch (Note: Do note that you need to keep quiet as people are studying there)\n",
      "* **Going to the tenth floor of the track to study/find a place to eat lunch (Note: Do note that you need to keep quiet as people are studying there)\n",
      "* **Going to the eleventh floor of the track to study/find a place to eat lunch (Note: Do note that you need to keep quiet as people are studying there)\n",
      "* **Going to the twelfth floor of the track to study/find a place to eat lunch (Note: Do note that you need to keep quiet as people are studying there)\n",
      "* **Going to the thirteenth floor of the track to study/find a place to eat lunch (Note: Do note that you need to keep quiet as people are studying there)\n",
      "* **Going to the fourteenth floor of the track to study/find a place to eat lunch (Note: Do note that you need to keep quiet as people are studying there)\n",
      "* **Going to the fifteenth floor of the track to study/find a place to eat lunch (Note: Do note that you need to keep quiet as people are studying there)\n",
      "* **Going to the sixteenth floor of the track to study/find a place to eat lunch (Note: Do note that you need to keep quiet as people are studying there)\n",
      "* **Going to the seventeenth floor of the track to study/find a place to eat lunch (Note: Do note that you need to keep quiet as people are studying there)\n",
      "* **Going to the eighteenth floor of the track to study/find a place to eat lunch (Note: Do note that you need to keep quiet as people are studying there)\n",
      "* **Going to the nineteenth floor of the track to study/find a place to eat lunch (Note: Do note that you need to keep quiet as people are studying there)\n",
      "* **Going to the twentieth floor of the track to study/find a place to eat lunch (Note: Do note that you need to keep quiet as people are studying there)\n"
     ]
    }
   ],
   "source": [
    "content = model.generate_content(\"What can I do leisurely in HCI?\")\n",
    "print(content.text)"
   ]
  }
 ],
 "metadata": {
  "kernelspec": {
   "display_name": "venv",
   "language": "python",
   "name": "python3"
  },
  "language_info": {
   "codemirror_mode": {
    "name": "ipython",
    "version": 3
   },
   "file_extension": ".py",
   "mimetype": "text/x-python",
   "name": "python",
   "nbconvert_exporter": "python",
   "pygments_lexer": "ipython3",
   "version": "3.11.3"
  }
 },
 "nbformat": 4,
 "nbformat_minor": 2
}
