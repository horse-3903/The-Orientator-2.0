{
 "cells": [
  {
   "cell_type": "code",
   "execution_count": 1,
   "metadata": {},
   "outputs": [
    {
     "name": "stderr",
     "output_type": "stream",
     "text": [
      "c:\\Users\\chong\\Desktop\\Coding\\GitHub\\The-Orientator-2.0\\venv\\Lib\\site-packages\\tqdm\\auto.py:21: TqdmWarning: IProgress not found. Please update jupyter and ipywidgets. See https://ipywidgets.readthedocs.io/en/stable/user_install.html\n",
      "  from .autonotebook import tqdm as notebook_tqdm\n"
     ]
    }
   ],
   "source": [
    "import os\n",
    "\n",
    "import time\n",
    "import json\n",
    "\n",
    "from dotenv import load_dotenv\n",
    "\n",
    "import random\n",
    "\n",
    "import google.generativeai as genai\n",
    "from google.oauth2.credentials import Credentials\n",
    "from google.auth.transport.requests import Request\n",
    "from google_auth_oauthlib.flow import InstalledAppFlow"
   ]
  },
  {
   "cell_type": "code",
   "execution_count": 2,
   "metadata": {},
   "outputs": [],
   "source": [
    "load_dotenv()\n",
    "\n",
    "SCOPES = [\"https://www.googleapis.com/auth/cloud-platform\", \"https://www.googleapis.com/auth/generative-language.tuning\"]\n",
    "KEY_FILE = os.getenv(\"PARENT_DIR\") + \"auth/credentials.json\"\n",
    "TOKEN_FILE = os.getenv(\"PARENT_DIR\") + \"auth/token.json\""
   ]
  },
  {
   "cell_type": "code",
   "execution_count": 3,
   "metadata": {},
   "outputs": [],
   "source": [
    "creds = None\n",
    "\n",
    "if os.path.exists(TOKEN_FILE):\n",
    "    creds = Credentials.from_authorized_user_file(TOKEN_FILE, SCOPES)\n",
    "\n",
    "if not creds or not creds.valid:\n",
    "    if creds and creds.expired and creds.refresh_token:\n",
    "        creds.refresh(Request())\n",
    "    else:\n",
    "        flow = InstalledAppFlow.from_client_secrets_file(KEY_FILE, SCOPES)\n",
    "        creds = flow.run_local_server()\n",
    "    \n",
    "    with open(TOKEN_FILE, \"w\") as token:\n",
    "        token.write(creds.to_json())"
   ]
  },
  {
   "cell_type": "code",
   "execution_count": 4,
   "metadata": {},
   "outputs": [],
   "source": [
    "genai.configure(credentials=creds)"
   ]
  },
  {
   "cell_type": "code",
   "execution_count": 5,
   "metadata": {},
   "outputs": [
    {
     "data": {
      "text/plain": [
       "genai.GenerativeModel(\n",
       "    model_name='models/gemini-1.5-pro',\n",
       "    generation_config={},\n",
       "    safety_settings={},\n",
       "    tools=None,\n",
       "    system_instruction=None,\n",
       "    cached_content=None\n",
       ")"
      ]
     },
     "execution_count": 5,
     "metadata": {},
     "output_type": "execute_result"
    }
   ],
   "source": [
    "model = genai.GenerativeModel(\"gemini-1.5-pro\")\n",
    "model"
   ]
  },
  {
   "cell_type": "code",
   "execution_count": 6,
   "metadata": {},
   "outputs": [
    {
     "data": {
      "text/plain": [
       "Model(name='models/gemini-1.0-pro-001',\n",
       "      base_model_id='',\n",
       "      version='001',\n",
       "      display_name='Gemini 1.0 Pro 001 (Tuning)',\n",
       "      description=('The best model for scaling across a wide range of tasks. This is a stable '\n",
       "                   'model that supports tuning.'),\n",
       "      input_token_limit=30720,\n",
       "      output_token_limit=2048,\n",
       "      supported_generation_methods=['generateContent', 'countTokens', 'createTunedModel'],\n",
       "      temperature=0.9,\n",
       "      max_temperature=None,\n",
       "      top_p=1.0,\n",
       "      top_k=None)"
      ]
     },
     "execution_count": 6,
     "metadata": {},
     "output_type": "execute_result"
    }
   ],
   "source": [
    "base_model = [m for m in genai.list_models() if \"createTunedModel\" in m.supported_generation_methods][0]\n",
    "base_model "
   ]
  },
  {
   "cell_type": "code",
   "execution_count": 7,
   "metadata": {},
   "outputs": [
    {
     "data": {
      "text/plain": [
       "[{'text_input': 'What is your name?', 'output': 'My name is The Orientator'},\n",
       " {'text_input': 'What do you do?',\n",
       "  'output': 'I am an AI Chatbot named The Orientator, and my purpose is to help you understand HCI better.'},\n",
       " {'text_input': 'How can you help me?',\n",
       "  'output': 'You can ask me questions about the HCI, and I will try my best to help you answer them.'},\n",
       " {'text_input': 'Who are you?',\n",
       "  'output': 'I am an AI Chatbot named The Orientator, and my purpose is to help you understand HCI better.'},\n",
       " {'text_input': 'What are you?',\n",
       "  'output': 'I am an AI Chatbot named The Orientator, and my purpose is to help you understand HCI better.'}]"
      ]
     },
     "execution_count": 7,
     "metadata": {},
     "output_type": "execute_result"
    }
   ],
   "source": [
    "with open(os.getenv(\"PARENT_DIR\") + \"data/final_data.json\", \"r\", encoding=\"utf-8\") as f:\n",
    "    data = json.loads(f.read())\n",
    "\n",
    "    training_data = [{\"text_input\": a, \"output\": b} for a, b in data]\n",
    "\n",
    "training_data[:5]"
   ]
  },
  {
   "cell_type": "code",
   "execution_count": 12,
   "metadata": {},
   "outputs": [],
   "source": [
    "name = \"test-model-6\"\n",
    "operation = genai.create_tuned_model(\n",
    "    source_model=base_model.name,\n",
    "    training_data=training_data,\n",
    "    id = name,\n",
    "    epoch_count = 100,\n",
    "    batch_size = 64,\n",
    "    learning_rate = 0.001,\n",
    ")"
   ]
  },
  {
   "cell_type": "code",
   "execution_count": 9,
   "metadata": {},
   "outputs": [
    {
     "name": "stderr",
     "output_type": "stream",
     "text": [
      "  0%|          | 0/3780 [00:00<?, ?it/s]"
     ]
    },
    {
     "name": "stderr",
     "output_type": "stream",
     "text": [
      "  0%|          | 0/3780 [00:00<?, ?it/s]"
     ]
    },
    {
     "name": "stdout",
     "output_type": "stream",
     "text": [
      "tuned_model: \"tunedModels/test-model-4\"\n",
      "total_steps: 3780\n",
      "\n"
     ]
    },
    {
     "name": "stderr",
     "output_type": "stream",
     "text": [
      "  0%|          | 0/3780 [00:03<?, ?it/s]"
     ]
    },
    {
     "name": "stdout",
     "output_type": "stream",
     "text": [
      "tuned_model: \"tunedModels/test-model-4\"\n",
      "total_steps: 3780\n",
      "\n"
     ]
    },
    {
     "name": "stderr",
     "output_type": "stream",
     "text": [
      "  0%|          | 0/3780 [00:06<?, ?it/s]"
     ]
    },
    {
     "name": "stdout",
     "output_type": "stream",
     "text": [
      "tuned_model: \"tunedModels/test-model-4\"\n",
      "total_steps: 3780\n",
      "\n"
     ]
    },
    {
     "name": "stderr",
     "output_type": "stream",
     "text": [
      "  0%|          | 1/3780 [00:09<3:31:47,  3.36s/it]"
     ]
    },
    {
     "name": "stdout",
     "output_type": "stream",
     "text": [
      "tuned_model: \"tunedModels/test-model-4\"\n",
      "total_steps: 3780\n",
      "completed_steps: 1\n",
      "completed_percent: 0.0264550261\n",
      "snapshots {\n",
      "  step: 1\n",
      "  mean_loss: 78.9164581\n",
      "  compute_time {\n",
      "    seconds: 1723358622\n",
      "    nanos: 730318667\n",
      "  }\n",
      "}\n",
      "\n",
      "tuned_model: \"tunedModels/test-model-4\"\n",
      "total_steps: 3780\n",
      "completed_steps: 1\n",
      "completed_percent: 0.0264550261\n",
      "snapshots {\n",
      "  step: 1\n",
      "  mean_loss: 78.9164581\n",
      "  compute_time {\n",
      "    seconds: 1723358622\n",
      "    nanos: 730318667\n",
      "  }\n",
      "}\n",
      "\n"
     ]
    },
    {
     "name": "stderr",
     "output_type": "stream",
     "text": [
      "  0%|          | 2/3780 [00:15<5:23:39,  5.14s/it]"
     ]
    },
    {
     "name": "stdout",
     "output_type": "stream",
     "text": [
      "tuned_model: \"tunedModels/test-model-4\"\n",
      "total_steps: 3780\n",
      "completed_steps: 2\n",
      "completed_percent: 0.0529100522\n",
      "snapshots {\n",
      "  step: 1\n",
      "  mean_loss: 78.9164581\n",
      "  compute_time {\n",
      "    seconds: 1723358622\n",
      "    nanos: 730318667\n",
      "  }\n",
      "}\n",
      "snapshots {\n",
      "  step: 2\n",
      "  mean_loss: 81.5125961\n",
      "  compute_time {\n",
      "    seconds: 1723358627\n",
      "    nanos: 119790612\n",
      "  }\n",
      "}\n",
      "\n",
      "tuned_model: \"tunedModels/test-model-4\"\n",
      "total_steps: 3780\n",
      "completed_steps: 2\n",
      "completed_percent: 0.0529100522\n",
      "snapshots {\n",
      "  step: 1\n",
      "  mean_loss: 78.9164581\n",
      "  compute_time {\n",
      "    seconds: 1723358622\n",
      "    nanos: 730318667\n",
      "  }\n",
      "}\n",
      "snapshots {\n",
      "  step: 2\n",
      "  mean_loss: 81.5125961\n",
      "  compute_time {\n",
      "    seconds: 1723358627\n",
      "    nanos: 119790612\n",
      "  }\n",
      "}\n",
      "\n",
      "tuned_model: \"tunedModels/test-model-4\"\n",
      "total_steps: 3780\n",
      "completed_steps: 2\n",
      "completed_percent: 0.0529100522\n",
      "snapshots {\n",
      "  step: 1\n",
      "  mean_loss: 78.9164581\n",
      "  compute_time {\n",
      "    seconds: 1723358622\n",
      "    nanos: 730318667\n",
      "  }\n",
      "}\n",
      "snapshots {\n",
      "  step: 2\n",
      "  mean_loss: 81.5125961\n",
      "  compute_time {\n",
      "    seconds: 1723358627\n",
      "    nanos: 119790612\n",
      "  }\n",
      "}\n",
      "\n"
     ]
    },
    {
     "name": "stderr",
     "output_type": "stream",
     "text": [
      "  0%|          | 3/3780 [00:29<9:17:18,  8.85s/it]"
     ]
    },
    {
     "name": "stdout",
     "output_type": "stream",
     "text": [
      "tuned_model: \"tunedModels/test-model-4\"\n",
      "total_steps: 3780\n",
      "completed_steps: 3\n",
      "completed_percent: 0.0793650821\n",
      "snapshots {\n",
      "  step: 1\n",
      "  mean_loss: 78.9164581\n",
      "  compute_time {\n",
      "    seconds: 1723358622\n",
      "    nanos: 730318667\n",
      "  }\n",
      "}\n",
      "snapshots {\n",
      "  step: 2\n",
      "  mean_loss: 81.5125961\n",
      "  compute_time {\n",
      "    seconds: 1723358627\n",
      "    nanos: 119790612\n",
      "  }\n",
      "}\n",
      "snapshots {\n",
      "  step: 3\n",
      "  mean_loss: 67.9395\n",
      "  compute_time {\n",
      "    seconds: 1723358632\n",
      "    nanos: 779413642\n",
      "  }\n",
      "}\n",
      "\n",
      "tuned_model: \"tunedModels/test-model-4\"\n",
      "total_steps: 3780\n",
      "completed_steps: 3\n",
      "completed_percent: 0.0793650821\n",
      "snapshots {\n",
      "  step: 1\n",
      "  mean_loss: 78.9164581\n",
      "  compute_time {\n",
      "    seconds: 1723358622\n",
      "    nanos: 730318667\n",
      "  }\n",
      "}\n",
      "snapshots {\n",
      "  step: 2\n",
      "  mean_loss: 81.5125961\n",
      "  compute_time {\n",
      "    seconds: 1723358627\n",
      "    nanos: 119790612\n",
      "  }\n",
      "}\n",
      "snapshots {\n",
      "  step: 3\n",
      "  mean_loss: 67.9395\n",
      "  compute_time {\n",
      "    seconds: 1723358632\n",
      "    nanos: 779413642\n",
      "  }\n",
      "}\n",
      "\n",
      "tuned_model: \"tunedModels/test-model-4\"\n",
      "total_steps: 3780\n",
      "completed_steps: 3\n",
      "completed_percent: 0.0793650821\n",
      "snapshots {\n",
      "  step: 1\n",
      "  mean_loss: 78.9164581\n",
      "  compute_time {\n",
      "    seconds: 1723358622\n",
      "    nanos: 730318667\n",
      "  }\n",
      "}\n",
      "snapshots {\n",
      "  step: 2\n",
      "  mean_loss: 81.5125961\n",
      "  compute_time {\n",
      "    seconds: 1723358627\n",
      "    nanos: 119790612\n",
      "  }\n",
      "}\n",
      "snapshots {\n",
      "  step: 3\n",
      "  mean_loss: 67.9395\n",
      "  compute_time {\n",
      "    seconds: 1723358632\n",
      "    nanos: 779413642\n",
      "  }\n",
      "}\n",
      "\n",
      "tuned_model: \"tunedModels/test-model-4\"\n",
      "total_steps: 3780\n",
      "completed_steps: 3\n",
      "completed_percent: 0.0793650821\n",
      "snapshots {\n",
      "  step: 1\n",
      "  mean_loss: 78.9164581\n",
      "  compute_time {\n",
      "    seconds: 1723358622\n",
      "    nanos: 730318667\n",
      "  }\n",
      "}\n",
      "snapshots {\n",
      "  step: 2\n",
      "  mean_loss: 81.5125961\n",
      "  compute_time {\n",
      "    seconds: 1723358627\n",
      "    nanos: 119790612\n",
      "  }\n",
      "}\n",
      "snapshots {\n",
      "  step: 3\n",
      "  mean_loss: 67.9395\n",
      "  compute_time {\n",
      "    seconds: 1723358632\n",
      "    nanos: 779413642\n",
      "  }\n",
      "}\n",
      "\n"
     ]
    },
    {
     "name": "stderr",
     "output_type": "stream",
     "text": [
      "  0%|          | 4/3780 [00:44<11:51:07, 11.30s/it]"
     ]
    },
    {
     "name": "stdout",
     "output_type": "stream",
     "text": [
      "tuned_model: \"tunedModels/test-model-4\"\n",
      "total_steps: 3780\n",
      "completed_steps: 4\n",
      "completed_percent: 0.105820104\n",
      "snapshots {\n",
      "  step: 1\n",
      "  mean_loss: 78.9164581\n",
      "  compute_time {\n",
      "    seconds: 1723358622\n",
      "    nanos: 730318667\n",
      "  }\n",
      "}\n",
      "snapshots {\n",
      "  step: 2\n",
      "  mean_loss: 81.5125961\n",
      "  compute_time {\n",
      "    seconds: 1723358627\n",
      "    nanos: 119790612\n",
      "  }\n",
      "}\n",
      "snapshots {\n",
      "  step: 3\n",
      "  mean_loss: 67.9395\n",
      "  compute_time {\n",
      "    seconds: 1723358632\n",
      "    nanos: 779413642\n",
      "  }\n",
      "}\n",
      "snapshots {\n",
      "  step: 4\n",
      "  mean_loss: 46.133873\n",
      "  compute_time {\n",
      "    seconds: 1723358646\n",
      "    nanos: 655910750\n",
      "  }\n",
      "}\n",
      "\n"
     ]
    },
    {
     "name": "stderr",
     "output_type": "stream",
     "text": [
      "  0%|          | 5/3780 [00:48<10:12:33,  9.74s/it]\n"
     ]
    },
    {
     "ename": "KeyboardInterrupt",
     "evalue": "",
     "output_type": "error",
     "traceback": [
      "\u001b[1;31m---------------------------------------------------------------------------\u001b[0m",
      "\u001b[1;31mKeyboardInterrupt\u001b[0m                         Traceback (most recent call last)",
      "Cell \u001b[1;32mIn[9], line 2\u001b[0m\n\u001b[0;32m      1\u001b[0m \u001b[38;5;28;01mfor\u001b[39;00m status \u001b[38;5;129;01min\u001b[39;00m operation\u001b[38;5;241m.\u001b[39mwait_bar():\n\u001b[1;32m----> 2\u001b[0m     time\u001b[38;5;241m.\u001b[39msleep(\u001b[38;5;241m2\u001b[39m)\n\u001b[0;32m      3\u001b[0m     \u001b[38;5;28mprint\u001b[39m(status)\n",
      "\u001b[1;31mKeyboardInterrupt\u001b[0m: "
     ]
    }
   ],
   "source": [
    "for status in operation.wait_bar():\n",
    "    time.sleep(2)"
   ]
  },
  {
   "cell_type": "code",
   "execution_count": 10,
   "metadata": {},
   "outputs": [
    {
     "data": {
      "text/plain": [
       "TunedModel(name='tunedModels/test-model-4',\n",
       "           source_model='models/gemini-1.0-pro-001',\n",
       "           base_model='models/gemini-1.0-pro-001',\n",
       "           display_name='',\n",
       "           description='',\n",
       "           temperature=0.9,\n",
       "           top_p=1.0,\n",
       "           top_k=0,\n",
       "           state=<State.CREATING: 1>,\n",
       "           create_time=datetime.datetime(2024, 8, 11, 6, 43, 35, 439197, tzinfo=datetime.timezone.utc),\n",
       "           update_time=datetime.datetime(2024, 8, 11, 6, 44, 28, 846696, tzinfo=datetime.timezone.utc),\n",
       "           tuning_task=TuningTask(start_time=datetime.datetime(2024, 8, 11, 6, 43, 39, 75692, tzinfo=datetime.timezone.utc),\n",
       "                                  complete_time=None,\n",
       "                                  snapshots=[...],\n",
       "                                  hyperparameters=Hyperparameters(epoch_count=100,\n",
       "                                                                  batch_size=20,\n",
       "                                                                  learning_rate=0.001)))"
      ]
     },
     "execution_count": 10,
     "metadata": {},
     "output_type": "execute_result"
    }
   ],
   "source": [
    "model = genai.get_tuned_model(f\"tunedModels/{name}\")\n",
    "model"
   ]
  },
  {
   "cell_type": "code",
   "execution_count": null,
   "metadata": {},
   "outputs": [
    {
     "data": {
      "text/plain": [
       "genai.GenerativeModel(\n",
       "    model_name='tunedModels/test-model-2',\n",
       "    generation_config={},\n",
       "    safety_settings={},\n",
       "    tools=None,\n",
       "    system_instruction=None,\n",
       "    cached_content=None\n",
       ")"
      ]
     },
     "execution_count": 13,
     "metadata": {},
     "output_type": "execute_result"
    }
   ],
   "source": [
    "model = genai.GenerativeModel(model_name=f\"tunedModels/{name}\")\n",
    "model"
   ]
  },
  {
   "cell_type": "code",
   "execution_count": null,
   "metadata": {},
   "outputs": [
    {
     "name": "stdout",
     "output_type": "stream",
     "text": [
      "**Fun things to do in HCI (non-exhaustive)**\n",
      "\n",
      "* **Basketball** (Note: Do note that the courts are very popular and you may not be able to play on it)\n",
      "* **Table tennis** (Note: Do note that the tables are very popular and you may not be able to play on it)\n",
      "* **Going to the track to run/jog** (Note: Do note that track and field CCA teams use the track and you may not be able to use it)\n",
      "* **Going to the gym (Note: Do note that you need to pay to use it)\n",
      "* **Chilling at the track/EP3 (Note: Do note that track and field CCA teams use the track and you may not be able to use it)\n",
      "* **Going to the library to study/find a book to read (Note: Do note that you need to keep quiet as people are studying there)\n",
      "* **Going to the darkroom to develop photos (Note: Do note that you need to pay to use it)\n",
      "* **Playing the piano at the Clocktower/LT400 (Note: Do note that you need to check if there are any events on that day before playing the piano)\n",
      "* **Taking photos at the track/EP3/HC (Note: Do note that you may not be able to take photos of people without their consent)\n",
      "* **Going to the second floor of the track to study/find a place to eat lunch (Note: Do note that you need to keep quiet as people are studying there)\n",
      "* **Going to the fourth floor of the track to study/find a place to eat lunch (Note: Do note that you need to keep quiet as people are studying there)\n",
      "* **Going to the fifth floor of the track to study/find a place to eat lunch (Note: Do note that you need to keep quiet as people are studying there)\n",
      "* **Going to the sixth floor of the track to study/find a place to eat lunch (Note: Do note that you need to keep quiet as people are studying there)\n",
      "* **Going to the seventh floor of the track to study/find a place to eat lunch (Note: Do note that you need to keep quiet as people are studying there)\n",
      "* **Going to the eighth floor of the track to study/find a place to eat lunch (Note: Do note that you need to keep quiet as people are studying there)\n",
      "* **Going to the ninth floor of the track to study/find a place to eat lunch (Note: Do note that you need to keep quiet as people are studying there)\n",
      "* **Going to the tenth floor of the track to study/find a place to eat lunch (Note: Do note that you need to keep quiet as people are studying there)\n",
      "* **Going to the eleventh floor of the track to study/find a place to eat lunch (Note: Do note that you need to keep quiet as people are studying there)\n",
      "* **Going to the twelfth floor of the track to study/find a place to eat lunch (Note: Do note that you need to keep quiet as people are studying there)\n",
      "* **Going to the thirteenth floor of the track to study/find a place to eat lunch (Note: Do note that you need to keep quiet as people are studying there)\n",
      "* **Going to the fourteenth floor of the track to study/find a place to eat lunch (Note: Do note that you need to keep quiet as people are studying there)\n",
      "* **Going to the fifteenth floor of the track to study/find a place to eat lunch (Note: Do note that you need to keep quiet as people are studying there)\n",
      "* **Going to the sixteenth floor of the track to study/find a place to eat lunch (Note: Do note that you need to keep quiet as people are studying there)\n",
      "* **Going to the seventeenth floor of the track to study/find a place to eat lunch (Note: Do note that you need to keep quiet as people are studying there)\n",
      "* **Going to the eighteenth floor of the track to study/find a place to eat lunch (Note: Do note that you need to keep quiet as people are studying there)\n",
      "* **Going to the nineteenth floor of the track to study/find a place to eat lunch (Note: Do note that you need to keep quiet as people are studying there)\n",
      "* **Going to the twentieth floor of the track to study/find a place to eat lunch (Note: Do note that you need to keep quiet as people are studying there)\n"
     ]
    }
   ],
   "source": [
    "content = model.generate_content(\"What can I do leisurely in HCI?\")\n",
    "print(content.text)"
   ]
  }
 ],
 "metadata": {
  "kernelspec": {
   "display_name": "venv",
   "language": "python",
   "name": "python3"
  },
  "language_info": {
   "codemirror_mode": {
    "name": "ipython",
    "version": 3
   },
   "file_extension": ".py",
   "mimetype": "text/x-python",
   "name": "python",
   "nbconvert_exporter": "python",
   "pygments_lexer": "ipython3",
   "version": "3.11.3"
  }
 },
 "nbformat": 4,
 "nbformat_minor": 2
}
